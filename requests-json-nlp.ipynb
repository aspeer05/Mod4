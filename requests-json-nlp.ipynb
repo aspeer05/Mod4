{
 "cells": [
  {
   "cell_type": "markdown",
   "metadata": {},
   "source": [
    "# Web Mining and Applied NLP (44-620)\n",
    "\n",
    "## Requests, JSON, and NLP\n",
    "\n",
    "### Student Name: Amber Speer\n",
    "\n",
    "Perform the tasks described in the Markdown cells below.  When you have completed the assignment make sure your code cells have all been run (and have output beneath them) and ensure you have committed and pushed ALL of your changes to your assignment repository.\n",
    "\n",
    "Make sure you have [installed spaCy and its pipeline](https://spacy.io/usage#quickstart) and [spaCyTextBlob](https://spacy.io/universe/project/spacy-textblob)\n",
    "\n",
    "Every question that requires you to write code will have a code cell underneath it; you may either write your entire solution in that cell or write it in a python file (`.py`), then import and run the appropriate code to answer the question.\n",
    "\n",
    "This assignment requires that you write additional files (either JSON or pickle files); make sure to submit those files in your repository as well."
   ]
  },
  {
   "cell_type": "markdown",
   "metadata": {},
   "source": [
    "## Question 1\n",
    "\n",
    "1. The following code accesses the [lyrics.ovh](https://lyricsovh.docs.apiary.io/#reference/0/lyrics-of-a-song/search) public api, searches for the lyrics of a song, and stores it in a dictionary object.  Write the resulting json to a file (either a JSON file or a pickle file; you choose). You will read in the contents of this file for future questions so we do not need to frequently access the API."
   ]
  },
  {
   "cell_type": "code",
   "execution_count": 5,
   "metadata": {},
   "outputs": [
    {
     "name": "stdout",
     "output_type": "stream",
     "text": [
      "[{'title': 'I Wandered Lonely As A Cloud', 'author': 'William Wordsworth', 'lines': ['I wandered lonely as a cloud', \"That floats on high o'er vales and hills,\", 'When all at once I saw a crowd,', 'A host, of golden daffodils;', 'Beside the lake, beneath the trees,', 'Fluttering and dancing in the breeze.', '', 'Continuous as the stars that shine', 'And twinkle on the milky way,', 'They stretched in never-ending line', 'Along the margin of a bay:', 'Ten thousand saw I at a glance,', 'Tossing their heads in sprightly dance.', '', ' The waves beside them danced, but they', 'Out-did the sparkling leaves in glee;', 'A poet could not be but gay,', 'In such a jocund company!', 'I gazed—and gazed—but little thought', 'What wealth the show to me had brought:', '', 'For oft, when on my couch I lie', 'In vacant or in pensive mood,', 'They flash upon that inward eye', 'Which is the bliss of solitude;', 'And then my heart with pleasure fills,', 'And dances with the daffodils.'], 'linecount': '24'}]\n"
     ]
    }
   ],
   "source": [
    "import requests\n",
    "import json\n",
    "\n",
    "\n",
    "AUTHOR='William Wordsworth'\n",
    "POEM = 'I wandered lonely as a cloud'\n",
    "\n",
    "#only certain poets and titles are available\n",
    "#to see the available poets, go to (in a web browser)\n",
    "# https://poetrydb.org/author\n",
    "#To see which poems that author has available, go to \n",
    "# https://poetrydb.org/author/AUTHOR NAME\n",
    "# e.g.: https://poetrydb.org/author/Edgar Allan Poe\n",
    "#The spaces will get handled by your web browser\n",
    "\n",
    "# A cool pythonism (introduced in Python 3): f strings\n",
    "# https://docs.python.org/3/tutorial/inputoutput.html#tut-f-strings\n",
    "URL = f'https://poetrydb.org/author,title/{AUTHOR};{POEM}'\n",
    "result = json.loads(requests.get(URL).text)\n",
    "\n",
    "print(result)\n",
    "\n"
   ]
  },
  {
   "cell_type": "markdown",
   "metadata": {},
   "source": [
    "## Question 2\n",
    "\n",
    "2. Read in the contents of your file.  Print the lyrics of the song (not the entire dictionary!) and use spaCyTextBlob to perform sentiment analysis on the lyrics.  Print the polarity score of the sentiment analysis.  Given that the range of the polarity score is `[-1.0,1.0]` which corresponds to how positive or negative the text in question is, do you think the lyrics have a more positive or negative connotaion?  Answer this question in a comment in your code cell."
   ]
  },
  {
   "cell_type": "code",
   "execution_count": 64,
   "metadata": {},
   "outputs": [
    {
     "name": "stdout",
     "output_type": "stream",
     "text": [
      "I wandered lonely as a cloud\n",
      "That floats on high o'er vales and hills,\n",
      "When all at once I saw a crowd,\n",
      "A host, of golden daffodils;\n",
      "Beside the lake, beneath the trees,\n",
      "Fluttering and dancing in the breeze.\n",
      "\n",
      "Continuous as the stars that shine\n",
      "And twinkle on the milky way,\n",
      "They stretched in never-ending line\n",
      "Along the margin of a bay:\n",
      "Ten thousand saw I at a glance,\n",
      "Tossing their heads in sprightly dance.\n",
      "\n",
      " The waves beside them danced, but they\n",
      "Out-did the sparkling leaves in glee;\n",
      "A poet could not be but gay,\n",
      "In such a jocund company!\n",
      "I gazed—and gazed—but little thought\n",
      "What wealth the show to me had brought:\n",
      "\n",
      "For oft, when on my couch I lie\n",
      "In vacant or in pensive mood,\n",
      "They flash upon that inward eye\n",
      "Which is the bliss of solitude;\n",
      "And then my heart with pleasure fills,\n",
      "And dances with the daffodils.\n",
      "\n",
      "Polarity: \n",
      "0.10435185185185186\n"
     ]
    }
   ],
   "source": [
    "\n",
    "import spacy\n",
    "from spacytextblob.spacytextblob import SpacyTextBlob\n",
    "\n",
    "nlp = spacy.load(\"en_core_web_md\")\n",
    "nlp.add_pipe('spacytextblob')\n",
    "poem = '\\n'.join(result[0]['lines']) \n",
    "print(poem)\n",
    "\n",
    "doc = nlp(poem)\n",
    "doc._.blob.polarity\n",
    "doc._.blob.subjectivity\n",
    "doc._.blob.sentiment_assessments.assessments\n",
    "doc._.blob.ngrams()\n",
    "\n",
    "print('\\n' + 'Polarity: ')\n",
    "print( doc._.blob.polarity)\n",
    "\n",
    "# Given that the polarity score of this poem is 0.10435185185185186 the sentiment analysis would suggest that the poem is just slightly positive or almost nuetral.\n",
    "# However, I can't help but wonder if the vocabulary this analysis is using doesn't quite line up with the language of the poem because I would expect it to be VERY posititve.\n",
    "# This poem referenced lots of positive actions like fluttering and dancing.  It also talks about the author's heart being filled with pleasure and says he could not be be but gay.\n",
    "# These terms, though obviously positive when read in context, would not necescarily be recorded as such with a more modern vocabulary.\n"
   ]
  },
  {
   "cell_type": "markdown",
   "metadata": {},
   "source": [
    "## Question 3\n",
    "\n",
    "3. Write a function that takes an artist, song, and filename, accesses the lyrics.ovh api to get the song lyrics, and writes the results to the specified filename.  Test this function by getting the lyrics to any four songs of your choice and storing them in different files.\n",
    "\n",
    "The api that I am using does not have every poem and author.  These are the ones I used:\n",
    "Lines Written In Early Spring  by: William Wordsworth\n",
    "Blow, Blow, Thou Winter Wind  by: William Shakespeare\n",
    "Not at Home to Callers    by: Emily Dickinson\n",
    "The words the happy say   by: Emily Dickinson\n",
    "\n",
    "For the filename I made an acronym of the title."
   ]
  },
  {
   "cell_type": "code",
   "execution_count": 68,
   "metadata": {},
   "outputs": [
    {
     "name": "stdout",
     "output_type": "stream",
     "text": [
      "Enter author name:Emily Dickinson\n",
      "Enter poem name:The words the happy say\n",
      "Enter filename:TWTHS\n",
      "[{'title': 'The words the happy say', 'author': 'Emily Dickinson', 'lines': ['The words the happy say', 'Are paltry melody', 'But those the silent feel', 'Are beautiful --'], 'linecount': '4'}]\n"
     ]
    }
   ],
   "source": [
    "import requests\n",
    "import json\n",
    "\n",
    "author1 = input(\"Enter author name:\")\n",
    "poem1 = input(\"Enter poem name:\")\n",
    "filename1 = input(\"Enter filename:\")\n",
    "\n",
    "def poemfile(author, poem, filename):\n",
    "   \n",
    "    URL = f'https://poetrydb.org/author,title/{author};{poem}'\n",
    "    result = json.loads(requests.get(URL).text)\n",
    "    print(result)\n",
    "    \n",
    "    with open(filename + '.json', 'w') as json_file:\n",
    "        json.dump(result, json_file)\n",
    "    \n",
    "poemfile(author1, poem1, filename1)"
   ]
  },
  {
   "cell_type": "markdown",
   "metadata": {},
   "source": [
    "## Question 4\n",
    "\n",
    "4. Write a function that takes the name of a file that contains song lyrics, loads the file, performs sentiment analysis, and returns the polarity score.  Use this function to print the polarity scores (with the name of the song) of the three files you created in question 3.  Does the reported polarity match your understanding of the song's lyrics? Why or why not do you think that might be?  Answer the questions in either a comment in the code cell or a markdown cell under the code cell."
   ]
  },
  {
   "cell_type": "code",
   "execution_count": 124,
   "metadata": {},
   "outputs": [
    {
     "name": "stdout",
     "output_type": "stream",
     "text": [
      "Enter first filename:twths\n",
      "Enter second filename:nahtc\n",
      "Enter third filename:lwies\n",
      "Title: The words the happy say\n",
      "\n",
      "The words the happy say\n",
      "Are paltry melody\n",
      "But those the silent feel\n",
      "Are beautiful --\n",
      "\n",
      "Polarity: \n",
      "0.5499999999999999\n",
      "\n",
      "\n",
      "\n",
      "Title: Not at Home to Callers\n",
      "\n",
      "Not at Home to Callers\n",
      "Says the Naked Tree --\n",
      "Bonnet due in April --\n",
      "Wishing you Good Day --\n",
      "\n",
      "Polarity: \n",
      "0.19166666666666665\n",
      "\n",
      "\n",
      "\n",
      "Title: Lines Written In Early Spring\n",
      "\n",
      "I heard a thousand blended notes,\n",
      "While in a grove I sate reclined,\n",
      "In that sweet mood when pleasant thoughts\n",
      "Bring sad thoughts to the mind.\n",
      "\n",
      "To her fair works did Nature link\n",
      "The human soul that through me ran;\n",
      "And much it grieved my heart to think\n",
      "What man has made of man.\n",
      "\n",
      "Through primrose tufts, in that green bower,\n",
      "The periwinkle trailed its wreaths;\n",
      "And 'tis my faith that every flower\n",
      "Enjoys the air it breathes.\n",
      "\n",
      "The birds around me hopped and played,\n",
      "Their thoughts I cannot measure:--\n",
      "But the least motion which they made\n",
      "It seemed a thrill of pleasure.\n",
      "\n",
      "The budding twigs spread out their fan,\n",
      "To catch the breezy air;\n",
      "And I must think, do all I can,\n",
      "That there was pleasure there.\n",
      "\n",
      "If this belief from heaven be sent,\n",
      "If such be Nature's holy plan,\n",
      "Have I not reason to lament\n",
      "What man has made of man?\n",
      "\n",
      "Polarity: \n",
      "0.10833333333333332\n",
      "\n",
      "\n",
      "\n"
     ]
    }
   ],
   "source": [
    "filename1 = input(\"Enter first filename:\")\n",
    "filename2 = input(\"Enter second filename:\")\n",
    "filename3 = input(\"Enter third filename:\")\n",
    "\n",
    "nlp = spacy.load(\"en_core_web_md\")\n",
    "nlp.add_pipe('spacytextblob')\n",
    "\n",
    "\n",
    "def poemsent(fn):\n",
    "    with open(fn + '.json', 'r') as my_data_file:\n",
    "        result2 = json.load(my_data_file)\n",
    "             \n",
    "        title = result2[0]['title']\n",
    "        print('Title: ' + title)\n",
    "    \n",
    "    poem2 = '\\n'.join(result2[0]['lines'])\n",
    "    doc = nlp(poem2)\n",
    "    doc._.blob.polarity\n",
    "    doc._.blob.subjectivity\n",
    "    doc._.blob.sentiment_assessments.assessments\n",
    "    doc._.blob.ngrams()\n",
    "    print('\\n' + poem2)\n",
    "    print('\\n' + 'Polarity: ')\n",
    "    print( doc._.blob.polarity)\n",
    "    print('\\n' +'\\n')\n",
    "\n",
    "poemsent(filename1)\n",
    "poemsent(filename2)\n",
    "poemsent(filename3)\n",
    "    \n"
   ]
  },
  {
   "cell_type": "markdown",
   "metadata": {},
   "source": [
    " The Words the Happy Say- Polarity: .55\n",
    "     This score seems about right.  It has a lot of positive words in the poem, but there are not many to go off of.  There is a deeper meaning that the analysis is not picking up on, but it is overall positive anyway.\n",
    "     \n",
    "  Not at Home to Callers-  Polarity: .192\n",
    "      This score seems a little low.  The poem itself is pretty neutral until the end when it is whishing you a good day.  That last part feels like it shoudl make it much more positive.\n",
    "      \n",
    "  Lines Written in Early Spring-  Polarity: .108\n",
    "      This score seems a little high.  Although there are many positive words in the poem, the whole point of the poem is lamenting what man done to man.  Perhaps the more archaic language is not well suited for the vocabulary of this analysis, or perhaps the analysis is not great at pulling the main point out of the poem.\n",
    "      \n",
    "In general, I would say that this analysis is not well suited for poetry or any very figurative/sybolic text.\n",
    "     \n",
    " "
   ]
  },
  {
   "cell_type": "markdown",
   "metadata": {},
   "source": [
    "The active project can be found at: https://github.com/aspeer05/baserepo/blob/main/python-ds.ipynb"
   ]
  }
 ],
 "metadata": {
  "kernelspec": {
   "display_name": "Python 3 (ipykernel)",
   "language": "python",
   "name": "python3"
  },
  "language_info": {
   "codemirror_mode": {
    "name": "ipython",
    "version": 3
   },
   "file_extension": ".py",
   "mimetype": "text/x-python",
   "name": "python",
   "nbconvert_exporter": "python",
   "pygments_lexer": "ipython3",
   "version": "3.9.12"
  }
 },
 "nbformat": 4,
 "nbformat_minor": 4
}
